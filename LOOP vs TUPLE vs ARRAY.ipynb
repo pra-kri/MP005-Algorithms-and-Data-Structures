{
 "cells": [
  {
   "cell_type": "markdown",
   "metadata": {},
   "source": [
    "## Python Speed Optimisation - quick test\n",
    "\n",
    "### Some random experimentation with numpy arrays vs loops\n",
    "\n",
    "\n",
    "Goal: To sum up the elements in a data-structure, using multiple different methods, to see which methods and data-structures are faster.\n",
    "\n",
    "The 3 data-structures I used were: \n",
    "    - Lists \n",
    "    - Tuples\n",
    "    - Arrays (numpy)\n",
    "\n",
    "The different method of summing up were: \n",
    "    - Summing up with each data-structure's in-built sum() function\n",
    "        i.   For lists, this is:  sum(list)\n",
    "        ii.  For tuples, this is: sum(tuple)\n",
    "        iii. For arrays, this is: array.sum()\n",
    "    - Summing up by manually looping through each element of the data-structure.\n",
    "\n",
    "\n"
   ]
  },
  {
   "cell_type": "markdown",
   "metadata": {},
   "source": [
    "### Summary of Results:\n",
    "\n",
    "I haven't presented the data carefully or neatly yet, \n",
    "    and my code is a bit rough and scrappy, \n",
    "    and I should try averaging multiple runs to get more reliable results, \n",
    "    but it seems that the ranking of fastest to slowest is:\n",
    "\n",
    "\n",
    "1. Numpy's built in sum() function is the fastest  (~   25 ms)\n",
    "2. Python's sum(tuple) function is the next fastest(~  100 ms)\n",
    "3. Python's sum(list) function is the next fastest (~  145 ms)\n",
    "4. Looping through a list is the 3rd fastest       (~  500 ms)\n",
    "5. Looping through a tuple is similar to a list    (~  500 ms)\n",
    "6. Looping through np.array is the slowest         (~ 2800 ms)\n",
    "\n",
    "\n",
    "### Things I should probably check out later...:\n",
    "\n",
    "- What about summing up integers? I only summed floats in these tests.\n",
    "- What about pandas dataframes? \n",
    "- I understand why numpy arrays are faster than lists when using each of their respective sum functions (vectorisation of code), but why is numpy slower when using a standard loop?\n",
    "- Why is sum(tuple) faster than sum(list), but looping through a tuple is the same speed as looping through a list?\n",
    "- What happens when there are non-int or non-float values? \n",
    "- How do the times all scale as you change the size of the list/tuple/array?\n",
    "- Cython, Numba, GPU programming\n",
    "\n"
   ]
  },
  {
   "cell_type": "code",
   "execution_count": 113,
   "metadata": {},
   "outputs": [
    {
     "name": "stdout",
     "output_type": "stream",
     "text": [
      "[  1.00000000e-01   1.00999990e-01   1.01999980e-01 ...,   9.99999800e+03\n",
      "   9.99999900e+03   1.00000000e+04]\n",
      "0.1\n",
      "1000000.0\n",
      "0.1\n",
      "0.5\n",
      "1000000.0\n"
     ]
    }
   ],
   "source": [
    "import numpy as np\n",
    "import pandas as pd\n",
    "\n",
    "# first test array = a numpy array\n",
    "test_array1 = np.linspace(0.1, 10000.0, 10000000)\n",
    "\n",
    "# second test array = a list. A list in Python is kind of like an array of pointers...\n",
    "test_array2 = [0.1*a for a in range(1, 10000001)]\n",
    "\n",
    "# 3rd test array = a tuple.\n",
    "test_array3 = tuple(test_array2)\n",
    "\n",
    "# to test what the array looks like\n",
    "print(test_array1)\n",
    "\n",
    "# just to check what the list looks like\n",
    "print(test_array2[0])\n",
    "print(test_array2[-1])\n",
    "\n",
    "\n",
    "# to check what the tuple looks like\n",
    "print(test_array3[0])\n",
    "print(test_array3[4])\n",
    "print(test_array3[-1])"
   ]
  },
  {
   "cell_type": "code",
   "execution_count": 51,
   "metadata": {},
   "outputs": [
    {
     "name": "stdout",
     "output_type": "stream",
     "text": [
      "50000500000.0\n",
      "Wall time: 3.38 s\n"
     ]
    }
   ],
   "source": [
    "def method1(input_array):\n",
    "    \"\"\"\n",
    "    Loops through the array and sums up all the values\n",
    "    \"\"\"\n",
    "    sum1 = 0\n",
    "    for i in input_array:\n",
    "        sum1 += i\n",
    "    return sum1\n",
    "\n",
    "\n",
    "def method2(input_array):\n",
    "    \"\"\" \n",
    "    Use Numpy's own sum() function\n",
    "    \"\"\"\n",
    "    sum2 = input_array.sum()\n",
    "    return sum2\n"
   ]
  },
  {
   "cell_type": "code",
   "execution_count": 49,
   "metadata": {},
   "outputs": [
    {
     "name": "stdout",
     "output_type": "stream",
     "text": [
      "50000500000.0\n",
      "Wall time: 23 ms\n"
     ]
    }
   ],
   "source": [
    "%%time\n",
    "sum1 = test_array3.sum()\n",
    "print(sum1)"
   ]
  },
  {
   "cell_type": "code",
   "execution_count": 96,
   "metadata": {},
   "outputs": [
    {
     "name": "stdout",
     "output_type": "stream",
     "text": [
      "5.0000005e+12\n",
      "Wall time: 504 ms\n"
     ]
    }
   ],
   "source": [
    "%%time\n",
    "a = method1(test_array2)\n",
    "print(a)"
   ]
  },
  {
   "cell_type": "code",
   "execution_count": 100,
   "metadata": {},
   "outputs": [
    {
     "name": "stdout",
     "output_type": "stream",
     "text": [
      "50000500000.0\n",
      "Wall time: 2.82 s\n"
     ]
    }
   ],
   "source": [
    "%%time\n",
    "b = method1(test_array1)\n",
    "print(b)"
   ]
  },
  {
   "cell_type": "code",
   "execution_count": 123,
   "metadata": {},
   "outputs": [
    {
     "name": "stdout",
     "output_type": "stream",
     "text": [
      "50000500000.0\n",
      "Wall time: 22 ms\n"
     ]
    }
   ],
   "source": [
    "%%time\n",
    "\n",
    "c = test_array1.sum()\n",
    "print(c)"
   ]
  },
  {
   "cell_type": "code",
   "execution_count": 92,
   "metadata": {},
   "outputs": [
    {
     "name": "stdout",
     "output_type": "stream",
     "text": [
      "5.0000005e+12\n",
      "Wall time: 149 ms\n"
     ]
    }
   ],
   "source": [
    "%%time\n",
    "d = sum(test_array2)\n",
    "print(d)"
   ]
  },
  {
   "cell_type": "code",
   "execution_count": 112,
   "metadata": {},
   "outputs": [
    {
     "name": "stdout",
     "output_type": "stream",
     "text": [
      "5.0000005e+12\n",
      "Wall time: 116 ms\n"
     ]
    }
   ],
   "source": [
    "%%time\n",
    "e = sum(test_array3)\n",
    "print(e)"
   ]
  },
  {
   "cell_type": "code",
   "execution_count": 119,
   "metadata": {},
   "outputs": [
    {
     "name": "stdout",
     "output_type": "stream",
     "text": [
      "5.0000005e+12\n",
      "Wall time: 491 ms\n"
     ]
    }
   ],
   "source": [
    "%%time\n",
    "f = method1(test_array3)\n",
    "print(f)"
   ]
  },
  {
   "cell_type": "code",
   "execution_count": null,
   "metadata": {},
   "outputs": [],
   "source": []
  }
 ],
 "metadata": {
  "kernelspec": {
   "display_name": "Python 2",
   "language": "python",
   "name": "python2"
  },
  "language_info": {
   "codemirror_mode": {
    "name": "ipython",
    "version": 2
   },
   "file_extension": ".py",
   "mimetype": "text/x-python",
   "name": "python",
   "nbconvert_exporter": "python",
   "pygments_lexer": "ipython2",
   "version": "2.7.13"
  }
 },
 "nbformat": 4,
 "nbformat_minor": 2
}
